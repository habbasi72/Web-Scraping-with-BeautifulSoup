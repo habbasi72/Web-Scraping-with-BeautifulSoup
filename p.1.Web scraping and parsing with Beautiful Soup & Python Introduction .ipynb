{
 "cells": [
  {
   "cell_type": "code",
   "execution_count": 3,
   "metadata": {
    "collapsed": false
   },
   "outputs": [],
   "source": [
    "import bs4 as bs\n",
    "import urllib.request #In order to make request"
   ]
  },
  {
   "cell_type": "code",
   "execution_count": 11,
   "metadata": {
    "collapsed": false
   },
   "outputs": [],
   "source": [
    "# Reading the source code (HTML file)\n",
    "sauce = urllib.request.urlopen('https://pythonprogramming.net/parsememcparseface/').read()\n",
    "# Turning the source code into a BS object and using lxml as the parser\n",
    "soup = bs.BeautifulSoup(sauce , 'lxml')\n",
    "\n",
    "#print(soup)\n",
    "#print(soup.title.string) #print the title of documnet\n",
    "#print(soup.p)#print the 1st pragraph\n",
    "#print(soup.find_all('p')) #find all pragraph tags"
   ]
  },
  {
   "cell_type": "code",
   "execution_count": 18,
   "metadata": {
    "collapsed": false
   },
   "outputs": [],
   "source": [
    "# Print all pragaph without their HTML tag\n",
    "# for paragraph in soup.find_all('p'): #P is paragraph tag\n",
    "#     print(paragraph.text)"
   ]
  },
  {
   "cell_type": "code",
   "execution_count": 22,
   "metadata": {
    "collapsed": false
   },
   "outputs": [],
   "source": [
    "# Getting all the texts\n",
    "# print(soup.get_text())"
   ]
  },
  {
   "cell_type": "code",
   "execution_count": 28,
   "metadata": {
    "collapsed": false
   },
   "outputs": [
    {
     "name": "stdout",
     "output_type": "stream",
     "text": [
      "/\n",
      "#\n",
      "/\n",
      "/+=1/\n",
      "/store/python-hoodie/\n",
      "/community/\n",
      "/login/\n",
      "/register/\n",
      "/\n",
      "/+=1/\n",
      "/store/python-hoodie/\n",
      "/community/\n",
      "/login/\n",
      "/register/\n",
      "https://www.crummy.com/software/BeautifulSoup/bs4/doc/\n",
      "/sitemap.xml\n",
      "#\n",
      "#\n",
      "#\n",
      "/support-donate/\n",
      "/consulting/\n",
      "https://www.facebook.com/pythonprogramming.net/\n",
      "https://twitter.com/sentdex\n",
      "https://plus.google.com/+sentdex\n",
      "/about/tos/\n",
      "/about/privacy-policy/\n",
      "https://xkcd.com/353/\n"
     ]
    }
   ],
   "source": [
    "# Getting all the links\n",
    "for url in soup.find_all('a'): #a is url tag\n",
    "#     print(url)\n",
    "    print(url.get('href'))"
   ]
  }
 ],
 "metadata": {
  "kernelspec": {
   "display_name": "Python 3",
   "language": "python",
   "name": "python3"
  },
  "language_info": {
   "codemirror_mode": {
    "name": "ipython",
    "version": 3
   },
   "file_extension": ".py",
   "mimetype": "text/x-python",
   "name": "python",
   "nbconvert_exporter": "python",
   "pygments_lexer": "ipython3",
   "version": "3.6.0"
  }
 },
 "nbformat": 4,
 "nbformat_minor": 2
}
