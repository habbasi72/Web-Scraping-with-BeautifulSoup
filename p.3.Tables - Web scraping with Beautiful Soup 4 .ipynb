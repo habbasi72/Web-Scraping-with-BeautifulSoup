{
 "cells": [
  {
   "cell_type": "code",
   "execution_count": 1,
   "metadata": {
    "collapsed": true
   },
   "outputs": [],
   "source": [
    "import bs4 as bs\n",
    "import urllib.request\n",
    "import pandas as pd\n",
    "import html5lib"
   ]
  },
  {
   "cell_type": "code",
   "execution_count": 7,
   "metadata": {
    "collapsed": false
   },
   "outputs": [],
   "source": [
    "sauce = urllib.request.urlopen('https://pythonprogramming.net/').read()\n",
    "soup = bs.BeautifulSoup(sauce , 'lxml')"
   ]
  },
  {
   "cell_type": "code",
   "execution_count": 3,
   "metadata": {
    "collapsed": false
   },
   "outputs": [
    {
     "name": "stdout",
     "output_type": "stream",
     "text": [
      "[]\n",
      "['Python', '932914021', 'Definitely']\n",
      "['Pascal', '532', 'Unlikely']\n",
      "['Lisp', '1522', 'Uncertain']\n",
      "['D#', '12', 'Possibly']\n",
      "['Cobol', '3', 'No.']\n",
      "['Fortran', '52124', 'Yes.']\n",
      "['Haskell', '24', 'lol.']\n"
     ]
    }
   ],
   "source": [
    "# getting all the tables\n",
    "# Using soup.table we simply get all the tables\n",
    "# table = soup.table\n",
    "table = soup.find('table')\n",
    "\n",
    "#getting all the rows\n",
    "table_rows = table.find_all('tr')\n",
    "\n",
    "for tr in table_rows:\n",
    "    #for all the rows getting tabledata\n",
    "    td = tr.find_all('td')\n",
    "    row = [i.text for i in td]\n",
    "    print(row)"
   ]
  },
  {
   "cell_type": "code",
   "execution_count": 5,
   "metadata": {
    "collapsed": false
   },
   "outputs": [
    {
     "name": "stdout",
     "output_type": "stream",
     "text": [
      "  Program Name  Internet Points    Kittens?\n",
      "0       Python        932914021  Definitely\n",
      "1       Pascal              532    Unlikely\n",
      "2         Lisp             1522   Uncertain\n",
      "3           D#               12    Possibly\n",
      "4        Cobol                3         No.\n"
     ]
    }
   ],
   "source": [
    "# Using pandas to extract tables \n",
    "dfs = pd.read_html('https://pythonprogramming.net/parsememcparseface/' , header=0)\n",
    "\n",
    "for df in dfs:\n",
    "    print(df.head())\n",
    "    "
   ]
  }
 ],
 "metadata": {
  "kernelspec": {
   "display_name": "Python 3",
   "language": "python",
   "name": "python3"
  },
  "language_info": {
   "codemirror_mode": {
    "name": "ipython",
    "version": 3
   },
   "file_extension": ".py",
   "mimetype": "text/x-python",
   "name": "python",
   "nbconvert_exporter": "python",
   "pygments_lexer": "ipython3",
   "version": "3.6.0"
  }
 },
 "nbformat": 4,
 "nbformat_minor": 2
}
